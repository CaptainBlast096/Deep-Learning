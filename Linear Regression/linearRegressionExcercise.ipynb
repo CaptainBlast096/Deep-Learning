import pandas as pd
import numpy as np
import matplotlib.pyplot as plt
from sklearn import linear_model

df = pd.read_csv("canada_per_capita_income.csv")
# Rename the column
df.rename(columns={'per capita income (US$)': 'per_capita_income'}, inplace=True)
# Verify the renamed column
print("Columns after rename:", df.columns)
df

# Visualize the data
plt.xlabel('Year')
plt.ylabel('Per Capita Income (US$)')
plt.scatter(df.year, df.per_capita_income, color='red', marker='+')
plt.show()

# Create a linear regression model
reg = linear_model.LinearRegression()
reg.fit(df[['year']], df.per_capita_income)

# Predict the per capita income for the year 2020
predicted_income_2020 = reg.predict([[2020]])
print(f"Predicted per capita income for 2020: {predicted_income_2020[0]}")

# Visualize the regression line
plt.xlabel('Year')
plt.ylabel('Per Capita Income (US$)')
plt.scatter(df.year, df.per_capita_income, color='red', marker='+')
plt.plot(df.year, reg.predict(df[['year']]), color='blue')
plt.show()
